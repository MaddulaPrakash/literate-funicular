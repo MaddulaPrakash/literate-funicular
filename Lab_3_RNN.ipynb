{
  "cells": [
    {
      "cell_type": "code",
      "execution_count": 74,
      "metadata": {
        "id": "xBRL2WbA-XhE"
      },
      "outputs": [],
      "source": [
        "from numpy import array\n",
        "from keras.models import Sequential\n",
        "from keras.layers import LSTM, GRU\n",
        "from keras.layers import Dense\n",
        "\n",
        "import matplotlib as plt\n",
        "get_ipython().magic(u'matplotlib inline')\n",
        "\n",
        "import datetime as dt, itertools, pandas as pd, matplotlib.pyplot as plt, numpy as np\n"
      ]
    },
    {
      "cell_type": "code",
      "execution_count": 75,
      "metadata": {
        "id": "EsHDm9DY-XhF"
      },
      "outputs": [],
      "source": [
        "def split_sequence(sequence, n_steps=7, lookahead=0):\n",
        "    X, y = list(), list()\n",
        "    for i in range(lookahead,len(sequence)):\n",
        "        # find the end of this pattern\n",
        "        end_ix = i + n_steps\n",
        "        # check if we are beyond the sequence\n",
        "        if end_ix >= len(sequence):\n",
        "            break\n",
        "        # gather input and output parts of the pattern\n",
        "        seq_x, seq_y = sequence[i-lookahead:end_ix-lookahead], sequence[end_ix]\n",
        "        X.append(seq_x)\n",
        "        y.append(seq_y)\n",
        "    return array(X), array(y)"
      ]
    },
    {
      "cell_type": "markdown",
      "metadata": {
        "id": "a0GyL4IS-XhG"
      },
      "source": [
        "### Data preprocessing"
      ]
    },
    {
      "cell_type": "code",
      "execution_count": 76,
      "metadata": {
        "id": "3qYCz5cd-XhH",
        "colab": {
          "base_uri": "https://localhost:8080/",
          "height": 423
        },
        "outputId": "b24d7a10-9c2a-407a-a2a9-d4789a4d567a"
      },
      "outputs": [
        {
          "output_type": "execute_result",
          "data": {
            "text/plain": [
              "            Date       Price\n",
              "0       1/1/2006  569.865168\n",
              "1       1/2/2006  593.271930\n",
              "2       1/3/2006  606.471193\n",
              "3       1/4/2006  576.932773\n",
              "4       1/5/2006  573.812500\n",
              "...          ...         ...\n",
              "3647  12/27/2015  832.554167\n",
              "3648  12/28/2015  880.513919\n",
              "3649  12/29/2015  856.883910\n",
              "3650  12/30/2015  888.002212\n",
              "3651  12/31/2015  918.498795\n",
              "\n",
              "[3652 rows x 2 columns]"
            ],
            "text/html": [
              "\n",
              "  <div id=\"df-63fa9eca-812d-43e6-a328-a161acef1c9e\">\n",
              "    <div class=\"colab-df-container\">\n",
              "      <div>\n",
              "<style scoped>\n",
              "    .dataframe tbody tr th:only-of-type {\n",
              "        vertical-align: middle;\n",
              "    }\n",
              "\n",
              "    .dataframe tbody tr th {\n",
              "        vertical-align: top;\n",
              "    }\n",
              "\n",
              "    .dataframe thead th {\n",
              "        text-align: right;\n",
              "    }\n",
              "</style>\n",
              "<table border=\"1\" class=\"dataframe\">\n",
              "  <thead>\n",
              "    <tr style=\"text-align: right;\">\n",
              "      <th></th>\n",
              "      <th>Date</th>\n",
              "      <th>Price</th>\n",
              "    </tr>\n",
              "  </thead>\n",
              "  <tbody>\n",
              "    <tr>\n",
              "      <th>0</th>\n",
              "      <td>1/1/2006</td>\n",
              "      <td>569.865168</td>\n",
              "    </tr>\n",
              "    <tr>\n",
              "      <th>1</th>\n",
              "      <td>1/2/2006</td>\n",
              "      <td>593.271930</td>\n",
              "    </tr>\n",
              "    <tr>\n",
              "      <th>2</th>\n",
              "      <td>1/3/2006</td>\n",
              "      <td>606.471193</td>\n",
              "    </tr>\n",
              "    <tr>\n",
              "      <th>3</th>\n",
              "      <td>1/4/2006</td>\n",
              "      <td>576.932773</td>\n",
              "    </tr>\n",
              "    <tr>\n",
              "      <th>4</th>\n",
              "      <td>1/5/2006</td>\n",
              "      <td>573.812500</td>\n",
              "    </tr>\n",
              "    <tr>\n",
              "      <th>...</th>\n",
              "      <td>...</td>\n",
              "      <td>...</td>\n",
              "    </tr>\n",
              "    <tr>\n",
              "      <th>3647</th>\n",
              "      <td>12/27/2015</td>\n",
              "      <td>832.554167</td>\n",
              "    </tr>\n",
              "    <tr>\n",
              "      <th>3648</th>\n",
              "      <td>12/28/2015</td>\n",
              "      <td>880.513919</td>\n",
              "    </tr>\n",
              "    <tr>\n",
              "      <th>3649</th>\n",
              "      <td>12/29/2015</td>\n",
              "      <td>856.883910</td>\n",
              "    </tr>\n",
              "    <tr>\n",
              "      <th>3650</th>\n",
              "      <td>12/30/2015</td>\n",
              "      <td>888.002212</td>\n",
              "    </tr>\n",
              "    <tr>\n",
              "      <th>3651</th>\n",
              "      <td>12/31/2015</td>\n",
              "      <td>918.498795</td>\n",
              "    </tr>\n",
              "  </tbody>\n",
              "</table>\n",
              "<p>3652 rows × 2 columns</p>\n",
              "</div>\n",
              "      <button class=\"colab-df-convert\" onclick=\"convertToInteractive('df-63fa9eca-812d-43e6-a328-a161acef1c9e')\"\n",
              "              title=\"Convert this dataframe to an interactive table.\"\n",
              "              style=\"display:none;\">\n",
              "        \n",
              "  <svg xmlns=\"http://www.w3.org/2000/svg\" height=\"24px\"viewBox=\"0 0 24 24\"\n",
              "       width=\"24px\">\n",
              "    <path d=\"M0 0h24v24H0V0z\" fill=\"none\"/>\n",
              "    <path d=\"M18.56 5.44l.94 2.06.94-2.06 2.06-.94-2.06-.94-.94-2.06-.94 2.06-2.06.94zm-11 1L8.5 8.5l.94-2.06 2.06-.94-2.06-.94L8.5 2.5l-.94 2.06-2.06.94zm10 10l.94 2.06.94-2.06 2.06-.94-2.06-.94-.94-2.06-.94 2.06-2.06.94z\"/><path d=\"M17.41 7.96l-1.37-1.37c-.4-.4-.92-.59-1.43-.59-.52 0-1.04.2-1.43.59L10.3 9.45l-7.72 7.72c-.78.78-.78 2.05 0 2.83L4 21.41c.39.39.9.59 1.41.59.51 0 1.02-.2 1.41-.59l7.78-7.78 2.81-2.81c.8-.78.8-2.07 0-2.86zM5.41 20L4 18.59l7.72-7.72 1.47 1.35L5.41 20z\"/>\n",
              "  </svg>\n",
              "      </button>\n",
              "      \n",
              "  <style>\n",
              "    .colab-df-container {\n",
              "      display:flex;\n",
              "      flex-wrap:wrap;\n",
              "      gap: 12px;\n",
              "    }\n",
              "\n",
              "    .colab-df-convert {\n",
              "      background-color: #E8F0FE;\n",
              "      border: none;\n",
              "      border-radius: 50%;\n",
              "      cursor: pointer;\n",
              "      display: none;\n",
              "      fill: #1967D2;\n",
              "      height: 32px;\n",
              "      padding: 0 0 0 0;\n",
              "      width: 32px;\n",
              "    }\n",
              "\n",
              "    .colab-df-convert:hover {\n",
              "      background-color: #E2EBFA;\n",
              "      box-shadow: 0px 1px 2px rgba(60, 64, 67, 0.3), 0px 1px 3px 1px rgba(60, 64, 67, 0.15);\n",
              "      fill: #174EA6;\n",
              "    }\n",
              "\n",
              "    [theme=dark] .colab-df-convert {\n",
              "      background-color: #3B4455;\n",
              "      fill: #D2E3FC;\n",
              "    }\n",
              "\n",
              "    [theme=dark] .colab-df-convert:hover {\n",
              "      background-color: #434B5C;\n",
              "      box-shadow: 0px 1px 3px 1px rgba(0, 0, 0, 0.15);\n",
              "      filter: drop-shadow(0px 1px 2px rgba(0, 0, 0, 0.3));\n",
              "      fill: #FFFFFF;\n",
              "    }\n",
              "  </style>\n",
              "\n",
              "      <script>\n",
              "        const buttonEl =\n",
              "          document.querySelector('#df-63fa9eca-812d-43e6-a328-a161acef1c9e button.colab-df-convert');\n",
              "        buttonEl.style.display =\n",
              "          google.colab.kernel.accessAllowed ? 'block' : 'none';\n",
              "\n",
              "        async function convertToInteractive(key) {\n",
              "          const element = document.querySelector('#df-63fa9eca-812d-43e6-a328-a161acef1c9e');\n",
              "          const dataTable =\n",
              "            await google.colab.kernel.invokeFunction('convertToInteractive',\n",
              "                                                     [key], {});\n",
              "          if (!dataTable) return;\n",
              "\n",
              "          const docLinkHtml = 'Like what you see? Visit the ' +\n",
              "            '<a target=\"_blank\" href=https://colab.research.google.com/notebooks/data_table.ipynb>data table notebook</a>'\n",
              "            + ' to learn more about interactive tables.';\n",
              "          element.innerHTML = '';\n",
              "          dataTable['output_type'] = 'display_data';\n",
              "          await google.colab.output.renderOutput(dataTable, element);\n",
              "          const docLink = document.createElement('div');\n",
              "          docLink.innerHTML = docLinkHtml;\n",
              "          element.appendChild(docLink);\n",
              "        }\n",
              "      </script>\n",
              "    </div>\n",
              "  </div>\n",
              "  "
            ]
          },
          "metadata": {},
          "execution_count": 76
        }
      ],
      "source": [
        "tsdataframe = pd.read_csv('/content/timeseries_lab3.csv')\n",
        "tsdataframe"
      ]
    },
    {
      "cell_type": "code",
      "execution_count": 77,
      "metadata": {
        "id": "3waAaxxG-XhH"
      },
      "outputs": [],
      "source": [
        "tsdata = np.load('/content/timeseries_lab3.npy')"
      ]
    },
    {
      "cell_type": "code",
      "execution_count": 78,
      "metadata": {
        "id": "PZJGk_Gu-XhH",
        "colab": {
          "base_uri": "https://localhost:8080/"
        },
        "outputId": "871b9d36-3fe3-40b8-b4c9-c327b30e4b55"
      },
      "outputs": [
        {
          "output_type": "execute_result",
          "data": {
            "text/plain": [
              "array([569.86516854, 593.27192983, 606.47119342, ..., 856.88391039,\n",
              "       888.00221239, 918.49879518])"
            ]
          },
          "metadata": {},
          "execution_count": 78
        }
      ],
      "source": [
        "tsdata"
      ]
    },
    {
      "cell_type": "code",
      "execution_count": 79,
      "metadata": {
        "id": "OSP_BOFx-XhH",
        "colab": {
          "base_uri": "https://localhost:8080/",
          "height": 282
        },
        "outputId": "868175b7-95d3-4ffa-b611-4e72c5b5d41a"
      },
      "outputs": [
        {
          "output_type": "execute_result",
          "data": {
            "text/plain": [
              "[<matplotlib.lines.Line2D at 0x7f0c4c2e33a0>]"
            ]
          },
          "metadata": {},
          "execution_count": 79
        },
        {
          "output_type": "display_data",
          "data": {
            "text/plain": [
              "<Figure size 432x288 with 1 Axes>"
            ],
            "image/png": "[encoded data removed]"
          },
          "metadata": {
            "needs_background": "light"
          }
        }
      ],
      "source": [
        "plt.plot(tsdata)"
      ]
    },
    {
      "cell_type": "code",
      "execution_count": 80,
      "metadata": {
        "id": "EOdQIeA2-XhI"
      },
      "outputs": [],
      "source": [
        "n_steps=7\n",
        "n_features = 1\n",
        "train_size = 2557"
      ]
    },
    {
      "cell_type": "code",
      "execution_count": 81,
      "metadata": {
        "id": "uHzr2vSR-XhI"
      },
      "outputs": [],
      "source": [
        "X, y = split_sequence(tsdata,n_steps)"
      ]
    },
    {
      "cell_type": "code",
      "execution_count": 82,
      "metadata": {
        "id": "SJftBtp4-XhI",
        "colab": {
          "base_uri": "https://localhost:8080/"
        },
        "outputId": "37adca35-b81f-4227-8cf3-7713fe2a1bcd"
      },
      "outputs": [
        {
          "output_type": "execute_result",
          "data": {
            "text/plain": [
              "array([[569.86516854, 593.27192983, 606.47119342, ..., 573.8125    ,\n",
              "        576.17699115, 548.16748768],\n",
              "       [593.27192983, 606.47119342, 576.93277311, ..., 576.17699115,\n",
              "        548.16748768, 528.13043478],\n",
              "       [606.47119342, 576.93277311, 573.8125    , ..., 548.16748768,\n",
              "        528.13043478, 543.19517544],\n",
              "       ...,\n",
              "       [876.92110454, 923.34583333, 807.89142857, ..., 865.42385787,\n",
              "        832.55416667, 880.51391863],\n",
              "       [923.34583333, 807.89142857, 753.03703704, ..., 832.55416667,\n",
              "        880.51391863, 856.88391039],\n",
              "       [807.89142857, 753.03703704, 865.42385787, ..., 880.51391863,\n",
              "        856.88391039, 888.00221239]])"
            ]
          },
          "metadata": {},
          "execution_count": 82
        }
      ],
      "source": [
        "X"
      ]
    },
    {
      "cell_type": "code",
      "execution_count": 83,
      "metadata": {
        "id": "gDKYyx8X-XhI"
      },
      "outputs": [],
      "source": [
        "#tsdata[:15]"
      ]
    },
    {
      "cell_type": "code",
      "execution_count": 84,
      "metadata": {
        "id": "ztoUEzAE-XhJ"
      },
      "outputs": [],
      "source": [
        "#X[:10]"
      ]
    },
    {
      "cell_type": "code",
      "execution_count": 85,
      "metadata": {
        "id": "T7VRl6Rc-XhJ"
      },
      "outputs": [],
      "source": [
        "#y[:4]"
      ]
    },
    {
      "cell_type": "code",
      "execution_count": 86,
      "metadata": {
        "id": "pJiBwvju-XhJ"
      },
      "outputs": [],
      "source": [
        "X = X.reshape((X.shape[0], X.shape[1], n_features))\n",
        "trainX = X[:train_size]\n",
        "trainy = y[:train_size]\n",
        "testX = X[train_size:]\n",
        "testy = y[train_size:]"
      ]
    },
    {
      "cell_type": "code",
      "execution_count": 87,
      "metadata": {
        "id": "l0Wro-wF-XhJ"
      },
      "outputs": [],
      "source": [
        "#trainX"
      ]
    },
    {
      "cell_type": "markdown",
      "metadata": {
        "id": "9-SB8IIu-XhJ"
      },
      "source": [
        "### LSTM model for time series prediction"
      ]
    },
    {
      "cell_type": "code",
      "execution_count": 88,
      "metadata": {
        "id": "ZC1-olGC-XhJ",
        "colab": {
          "base_uri": "https://localhost:8080/"
        },
        "outputId": "cd844ad5-5011-4da2-ab8f-6c8e2f609cbf"
      },
      "outputs": [
        {
          "output_type": "stream",
          "name": "stderr",
          "text": [
            "WARNING:tensorflow:Layer lstm_30 will not use cuDNN kernels since it doesn't meet the criteria. It will use a generic GPU kernel as fallback when running on GPU.\n"
          ]
        }
      ],
      "source": [
        "model = Sequential()\n",
        "model.add(LSTM(50, activation='relu', input_shape=(n_steps, n_features)))\n",
        "model.add(Dense(1))\n",
        "model.compile(optimizer='adam', loss='mse')"
      ]
    },
    {
      "cell_type": "code",
      "execution_count": 89,
      "metadata": {
        "id": "iiSV5Piu-XhJ",
        "colab": {
          "base_uri": "https://localhost:8080/"
        },
        "outputId": "7585b636-25c0-4b86-db91-43c4921c7aa9"
      },
      "outputs": [
        {
          "output_type": "stream",
          "name": "stdout",
          "text": [
            "Epoch 1/20\n",
            "80/80 [==============================] - 3s 15ms/step - loss: 52423.3359\n",
            "Epoch 2/20\n",
            "80/80 [==============================] - 1s 15ms/step - loss: 651.9481\n",
            "Epoch 3/20\n",
            "80/80 [==============================] - 1s 14ms/step - loss: 624.1591\n",
            "Epoch 4/20\n",
            "80/80 [==============================] - 2s 28ms/step - loss: 593.9447\n",
            "Epoch 5/20\n",
            "80/80 [==============================] - 2s 19ms/step - loss: 634.4854\n",
            "Epoch 6/20\n",
            "80/80 [==============================] - 1s 15ms/step - loss: 598.4023\n",
            "Epoch 7/20\n",
            "80/80 [==============================] - 1s 15ms/step - loss: 635.5491\n",
            "Epoch 8/20\n",
            "80/80 [==============================] - 1s 16ms/step - loss: 594.8888\n",
            "Epoch 9/20\n",
            "80/80 [==============================] - 1s 16ms/step - loss: 630.2021\n",
            "Epoch 10/20\n",
            "80/80 [==============================] - 1s 15ms/step - loss: 641.3018\n",
            "Epoch 11/20\n",
            "80/80 [==============================] - 1s 16ms/step - loss: 606.3044\n",
            "Epoch 12/20\n",
            "80/80 [==============================] - 1s 16ms/step - loss: 581.3179\n",
            "Epoch 13/20\n",
            "80/80 [==============================] - 2s 27ms/step - loss: 589.2139\n",
            "Epoch 14/20\n",
            "80/80 [==============================] - 2s 20ms/step - loss: 645.6172\n",
            "Epoch 15/20\n",
            "80/80 [==============================] - 1s 14ms/step - loss: 614.5700\n",
            "Epoch 16/20\n",
            "80/80 [==============================] - 1s 15ms/step - loss: 574.6339\n",
            "Epoch 17/20\n",
            "80/80 [==============================] - 1s 15ms/step - loss: 573.4456\n",
            "Epoch 18/20\n",
            "80/80 [==============================] - 1s 14ms/step - loss: 608.8789\n",
            "Epoch 19/20\n",
            "80/80 [==============================] - 1s 15ms/step - loss: 611.5519\n",
            "Epoch 20/20\n",
            "80/80 [==============================] - 1s 15ms/step - loss: 642.0994\n"
          ]
        },
        {
          "output_type": "execute_result",
          "data": {
            "text/plain": [
              "<keras.callbacks.History at 0x7f0c4c159160>"
            ]
          },
          "metadata": {},
          "execution_count": 89
        }
      ],
      "source": [
        "model.fit(trainX, trainy, epochs=20, verbose=1)"
      ]
    },
    {
      "cell_type": "markdown",
      "metadata": {
        "id": "4ZvSaiIS-XhK"
      },
      "source": [
        "### Prediction (test set)"
      ]
    },
    {
      "cell_type": "code",
      "execution_count": 90,
      "metadata": {
        "id": "ruMUeNql-XhK"
      },
      "outputs": [],
      "source": [
        "yhat = model.predict(testX, verbose=0)"
      ]
    },
    {
      "cell_type": "code",
      "execution_count": 91,
      "metadata": {
        "id": "IBuhzcdB-XhK"
      },
      "outputs": [],
      "source": [
        "pred = []\n",
        "for i in range(yhat.shape[0]):\n",
        "    pred.append(yhat[i])\n",
        "pred = np.array(pred)"
      ]
    },
    {
      "cell_type": "code",
      "execution_count": 92,
      "metadata": {
        "id": "bdzWhvqb-XhK",
        "colab": {
          "base_uri": "https://localhost:8080/",
          "height": 296
        },
        "outputId": "cd6cbd48-a105-46a7-bd84-f02fd3f5d961"
      },
      "outputs": [
        {
          "output_type": "execute_result",
          "data": {
            "text/plain": [
              "Text(0.5, 0, 'Days')"
            ]
          },
          "metadata": {},
          "execution_count": 92
        },
        {
          "output_type": "display_data",
          "data": {
            "text/plain": [
              "<Figure size 432x288 with 1 Axes>"
            ],
            "image/png": "[encoded data removed]"
          },
          "metadata": {
            "needs_background": "light"
          }
        }
      ],
      "source": [
        "plt.plot(range(len(tsdata)),tsdata,label='True')\n",
        "plt.plot(range(len(tsdata)-len(testy),len(tsdata)),pred,label='Predicted')\n",
        "plt.legend(loc='upper left')\n",
        "plt.xlabel('Days')\n",
        "\n"
      ]
    },
    {
      "cell_type": "markdown",
      "metadata": {
        "id": "6rAS2qxP-XhK"
      },
      "source": [
        "## Lab 4: Language Model"
      ]
    },
    {
      "cell_type": "markdown",
      "metadata": {
        "id": "H1hzo7-c-XhK"
      },
      "source": [
        "<b>Problem statement:</b> Use the following dataset containing element names to train a language model. Generate new names using the trained model. The generated names should resemble element names, e.g. ends with '-ium'"
      ]
    },
    {
      "cell_type": "markdown",
      "metadata": {
        "id": "CyC6RxTC-XhK"
      },
      "source": [
        "### Data"
      ]
    },
    {
      "cell_type": "code",
      "execution_count": 15,
      "metadata": {
        "id": "PuGqDl02-XhL"
      },
      "outputs": [],
      "source": [
        "data = open('/content/elements.txt', 'r').read()\n",
        "data= data.lower()\n",
        "chars = list(set('\\n'.join(data)))\n",
        "data_size, vocab_size = len(data), len(chars)\n",
        "char_to_index = { ch:i for i,ch in enumerate(chars) }\n",
        "index_to_char = { i:ch for i,ch in enumerate(chars) }\n",
        "char_to_index[' '] = len(chars)\n",
        "data_size, vocab_size = len(data), len(chars)"
      ]
    },
    {
      "cell_type": "code",
      "execution_count": 16,
      "metadata": {
        "id": "4Xgn9yjA-XhL",
        "colab": {
          "base_uri": "https://localhost:8080/",
          "height": 140
        },
        "outputId": "4407cf30-0d21-4ed4-d4c4-438e469d04ec"
      },
      "outputs": [
        {
          "output_type": "execute_result",
          "data": {
            "text/plain": [
              "'hydrogen\\nhelium\\nlithium\\nberyllium\\nboron\\ncarbon\\nnitrogen\\noxygen\\nfluorine\\nneon\\nsodium\\nmagnesium\\naluminium\\nsilicon\\nphosphorus\\nsulfur\\nchlorine\\nargon\\npotassium\\ncalcium\\nscandium\\ntitanium\\nvanadium\\nchromium\\nmanganese\\niron\\ncobalt\\nnickel\\ncopper\\nzinc\\ngallium\\ngermanium\\narsenic\\nselenium\\nbromine\\nkrypton\\nrubidium\\nstrontium\\nyttrium\\nzirconium\\nniobium\\nmolybdenum\\ntechnetium\\nruthenium\\nrhodium\\npalladium\\nsilver\\ncadmium\\nindium\\ntin\\nantimony\\ntellurium\\niodine\\nxenon\\ncesium\\nbarium\\nlanthanum\\ncerium\\npraseodymium\\nneodymium\\npromethium\\nsamarium\\neuropium\\ngadolinium\\nterbium\\ndysprosium\\nholmium\\nerbium\\nthulium\\nytterbium\\nlutetium\\nhafnium\\ntantalum\\ntungsten\\nrhenium\\nosmium\\niridium\\nplatinum\\ngold\\nmercury\\nthallium\\nlead\\nbismuth\\npolonium\\nastatine\\nradon\\nfrancium\\nradium\\nactinium\\nthorium\\nprotactinium\\nuranium\\nneptunium\\nplutonium\\namericium\\ncurium\\nberkelium\\ncalifornium\\neinsteinium\\nfermium\\nmendelevium\\nnobelium\\nlawrencium\\nrutherfordium\\ndubnium\\nseaborgium\\nbohrium\\nhassium\\nmeitnerium\\ndarmstadtium\\nroentgenium\\ncopernicium\\nnihonium\\nflerovium\\nmoscovium\\nlivermorium\\ntennessine\\noganesson'"
            ],
            "application/vnd.google.colaboratory.intrinsic+json": {
              "type": "string"
            }
          },
          "metadata": {},
          "execution_count": 16
        }
      ],
      "source": [
        "data"
      ]
    },
    {
      "cell_type": "markdown",
      "metadata": {
        "id": "fOwnhhcO-XhL"
      },
      "source": [
        "### Model Architecture"
      ]
    },
    {
      "cell_type": "markdown",
      "metadata": {
        "id": "f5q9I4CK-XhL"
      },
      "source": [
        "<img src=\"rnn_langmod.png\" style=\"width:500;height:300px;\">"
      ]
    },
    {
      "cell_type": "code",
      "source": [
        "import tensorflow as tf\n",
        "import numpy as np\n",
        "\n",
        "with open('/content/elements.txt') as f:\n",
        "    dataset = f.read().split()\n",
        "\n",
        "chars = sorted(set(''.join(dataset)))\n",
        "\n",
        "char_to_int = {c: i for i, c in enumerate(chars)}\n",
        "int_to_char = {i: c for i, c in enumerate(chars)}\n",
        "data = [char_to_int[c] for c in ''.join(dataset)]\n",
        "\n",
        "seq_length = 10\n",
        "sequences = []\n",
        "for i in range(len(data) - seq_length):\n",
        "    sequences.append(data[i:i+seq_length])\n",
        "\n",
        "X = np.array(sequences)\n",
        "y = tf.keras.utils.to_categorical(X[:, -1], num_classes=len(chars))\n",
        "X = X[:, :-1]\n",
        "\n",
        "model = tf.keras.Sequential([\n",
        "    tf.keras.layers.Embedding(input_dim=len(chars), output_dim=128, input_length=seq_length-1),\n",
        "    tf.keras.layers.LSTM(128, return_sequences=True),\n",
        "    tf.keras.layers.Dropout(0.30),\n",
        "    tf.keras.layers.LSTM(128),\n",
        "    tf.keras.layers.Dropout(0.45),\n",
        "    tf.keras.layers.Dense(128, activation='relu'),\n",
        "    tf.keras.layers.Dense(len(chars), activation='softmax')\n",
        "])\n",
        "\n",
        "model.compile(loss='categorical_crossentropy', optimizer='adam')\n",
        "model.fit(X, y, epochs=120, verbose=1)\n",
        "\n",
        "generated_words = []\n",
        "while len(generated_words) < 10:\n",
        "    start = np.random.randint(0, len(data)-seq_length)\n",
        "    seq = data[start:start+seq_length-1]\n",
        "    generated_text = ''.join([int_to_char[i] for i in seq])\n",
        "\n",
        "    for i in range(20):\n",
        "        x = np.array([seq])\n",
        "        y_pred = model.predict(x)[0]\n",
        "        next_char = int_to_char[np.argmax(y_pred)]\n",
        "        generated_text += next_char\n",
        "        seq = seq[1:] + [char_to_int[next_char]]\n",
        "        \n",
        "        if generated_text.endswith('ium'):\n",
        "            generated_words.append(generated_text)\n",
        "            break"
      ],
      "metadata": {
        "colab": {
          "base_uri": "https://localhost:8080/"
        },
        "id": "BlhIWiE8r2VR",
        "outputId": "957b0478-f5d4-465e-e639-5ac33f9d9375"
      },
      "execution_count": 115,
      "outputs": [
        {
          "output_type": "stream",
          "name": "stdout",
          "text": [
            "Epoch 1/120\n",
            "29/29 [==============================] - 5s 26ms/step - loss: 2.9859\n",
            "Epoch 2/120\n",
            "29/29 [==============================] - 0s 7ms/step - loss: 2.8208\n",
            "Epoch 3/120\n",
            "29/29 [==============================] - 0s 8ms/step - loss: 2.7874\n",
            "Epoch 4/120\n",
            "29/29 [==============================] - 0s 12ms/step - loss: 2.7881\n",
            "Epoch 5/120\n",
            "29/29 [==============================] - 0s 7ms/step - loss: 2.7592\n",
            "Epoch 6/120\n",
            "29/29 [==============================] - 0s 8ms/step - loss: 2.7628\n",
            "Epoch 7/120\n",
            "29/29 [==============================] - 0s 8ms/step - loss: 2.7233\n",
            "Epoch 8/120\n",
            "29/29 [==============================] - 0s 9ms/step - loss: 2.6366\n",
            "Epoch 9/120\n",
            "29/29 [==============================] - 0s 11ms/step - loss: 2.5066\n",
            "Epoch 10/120\n",
            "29/29 [==============================] - 0s 10ms/step - loss: 2.4244\n",
            "Epoch 11/120\n",
            "29/29 [==============================] - 0s 10ms/step - loss: 2.3719\n",
            "Epoch 12/120\n",
            "29/29 [==============================] - 0s 10ms/step - loss: 2.3245\n",
            "Epoch 13/120\n",
            "29/29 [==============================] - 0s 10ms/step - loss: 2.2931\n",
            "Epoch 14/120\n",
            "29/29 [==============================] - 0s 10ms/step - loss: 2.2701\n",
            "Epoch 15/120\n",
            "29/29 [==============================] - 0s 11ms/step - loss: 2.2661\n",
            "Epoch 16/120\n",
            "29/29 [==============================] - 0s 14ms/step - loss: 2.2385\n",
            "Epoch 17/120\n",
            "29/29 [==============================] - 0s 8ms/step - loss: 2.2156\n",
            "Epoch 18/120\n",
            "29/29 [==============================] - 0s 7ms/step - loss: 2.1852\n",
            "Epoch 19/120\n",
            "29/29 [==============================] - 0s 7ms/step - loss: 2.1848\n",
            "Epoch 20/120\n",
            "29/29 [==============================] - 0s 7ms/step - loss: 2.1476\n",
            "Epoch 21/120\n",
            "29/29 [==============================] - 0s 8ms/step - loss: 2.1236\n",
            "Epoch 22/120\n",
            "29/29 [==============================] - 0s 8ms/step - loss: 2.0824\n",
            "Epoch 23/120\n",
            "29/29 [==============================] - 0s 8ms/step - loss: 2.0570\n",
            "Epoch 24/120\n",
            "29/29 [==============================] - 0s 7ms/step - loss: 1.9855\n",
            "Epoch 25/120\n",
            "29/29 [==============================] - 0s 7ms/step - loss: 1.9593\n",
            "Epoch 26/120\n",
            "29/29 [==============================] - 0s 8ms/step - loss: 1.9052\n",
            "Epoch 27/120\n",
            "29/29 [==============================] - 0s 8ms/step - loss: 1.8827\n",
            "Epoch 28/120\n",
            "29/29 [==============================] - 0s 8ms/step - loss: 1.8524\n",
            "Epoch 29/120\n",
            "29/29 [==============================] - 0s 8ms/step - loss: 1.7960\n",
            "Epoch 30/120\n",
            "29/29 [==============================] - 0s 8ms/step - loss: 1.7360\n",
            "Epoch 31/120\n",
            "29/29 [==============================] - 0s 8ms/step - loss: 1.7008\n",
            "Epoch 32/120\n",
            "29/29 [==============================] - 0s 8ms/step - loss: 1.6899\n",
            "Epoch 33/120\n",
            "29/29 [==============================] - 0s 8ms/step - loss: 1.6296\n",
            "Epoch 34/120\n",
            "29/29 [==============================] - 0s 8ms/step - loss: 1.5786\n",
            "Epoch 35/120\n",
            "29/29 [==============================] - 0s 7ms/step - loss: 1.5293\n",
            "Epoch 36/120\n",
            "29/29 [==============================] - 0s 8ms/step - loss: 1.4575\n",
            "Epoch 37/120\n",
            "29/29 [==============================] - 0s 7ms/step - loss: 1.4492\n",
            "Epoch 38/120\n",
            "29/29 [==============================] - 0s 8ms/step - loss: 1.3920\n",
            "Epoch 39/120\n",
            "29/29 [==============================] - 0s 8ms/step - loss: 1.3833\n",
            "Epoch 40/120\n",
            "29/29 [==============================] - 0s 7ms/step - loss: 1.3165\n",
            "Epoch 41/120\n",
            "29/29 [==============================] - 0s 8ms/step - loss: 1.2704\n",
            "Epoch 42/120\n",
            "29/29 [==============================] - 0s 7ms/step - loss: 1.1796\n",
            "Epoch 43/120\n",
            "29/29 [==============================] - 0s 8ms/step - loss: 1.1722\n",
            "Epoch 44/120\n",
            "29/29 [==============================] - 0s 8ms/step - loss: 1.0944\n",
            "Epoch 45/120\n",
            "29/29 [==============================] - 0s 8ms/step - loss: 1.0888\n",
            "Epoch 46/120\n",
            "29/29 [==============================] - 0s 8ms/step - loss: 1.0370\n",
            "Epoch 47/120\n",
            "29/29 [==============================] - 0s 8ms/step - loss: 1.0078\n",
            "Epoch 48/120\n",
            "29/29 [==============================] - 0s 8ms/step - loss: 0.9475\n",
            "Epoch 49/120\n",
            "29/29 [==============================] - 0s 8ms/step - loss: 0.9013\n",
            "Epoch 50/120\n",
            "29/29 [==============================] - 0s 8ms/step - loss: 0.8388\n",
            "Epoch 51/120\n",
            "29/29 [==============================] - 0s 7ms/step - loss: 0.8006\n",
            "Epoch 52/120\n",
            "29/29 [==============================] - 0s 8ms/step - loss: 0.7766\n",
            "Epoch 53/120\n",
            "29/29 [==============================] - 0s 7ms/step - loss: 0.7228\n",
            "Epoch 54/120\n",
            "29/29 [==============================] - 0s 7ms/step - loss: 0.6561\n",
            "Epoch 55/120\n",
            "29/29 [==============================] - 0s 7ms/step - loss: 0.6342\n",
            "Epoch 56/120\n",
            "29/29 [==============================] - 0s 9ms/step - loss: 0.5949\n",
            "Epoch 57/120\n",
            "29/29 [==============================] - 0s 9ms/step - loss: 0.5705\n",
            "Epoch 58/120\n",
            "29/29 [==============================] - 0s 7ms/step - loss: 0.5439\n",
            "Epoch 59/120\n",
            "29/29 [==============================] - 0s 8ms/step - loss: 0.5453\n",
            "Epoch 60/120\n",
            "29/29 [==============================] - 0s 10ms/step - loss: 0.4742\n",
            "Epoch 61/120\n",
            "29/29 [==============================] - 0s 11ms/step - loss: 0.4589\n",
            "Epoch 62/120\n",
            "29/29 [==============================] - 0s 10ms/step - loss: 0.4102\n",
            "Epoch 63/120\n",
            "29/29 [==============================] - 0s 9ms/step - loss: 0.4077\n",
            "Epoch 64/120\n",
            "29/29 [==============================] - 0s 10ms/step - loss: 0.3918\n",
            "Epoch 65/120\n",
            "29/29 [==============================] - 0s 9ms/step - loss: 0.3651\n",
            "Epoch 66/120\n",
            "29/29 [==============================] - 0s 10ms/step - loss: 0.3662\n",
            "Epoch 67/120\n",
            "29/29 [==============================] - 0s 10ms/step - loss: 0.3535\n",
            "Epoch 68/120\n",
            "29/29 [==============================] - 0s 11ms/step - loss: 0.3104\n",
            "Epoch 69/120\n",
            "29/29 [==============================] - 0s 8ms/step - loss: 0.3070\n",
            "Epoch 70/120\n",
            "29/29 [==============================] - 0s 7ms/step - loss: 0.2712\n",
            "Epoch 71/120\n",
            "29/29 [==============================] - 0s 7ms/step - loss: 0.2628\n",
            "Epoch 72/120\n",
            "29/29 [==============================] - 0s 9ms/step - loss: 0.2675\n",
            "Epoch 73/120\n",
            "29/29 [==============================] - 0s 8ms/step - loss: 0.2967\n",
            "Epoch 74/120\n",
            "29/29 [==============================] - 0s 8ms/step - loss: 0.2248\n",
            "Epoch 75/120\n",
            "29/29 [==============================] - 0s 7ms/step - loss: 0.2509\n",
            "Epoch 76/120\n",
            "29/29 [==============================] - 0s 7ms/step - loss: 0.2219\n",
            "Epoch 77/120\n",
            "29/29 [==============================] - 0s 8ms/step - loss: 0.2211\n",
            "Epoch 78/120\n",
            "29/29 [==============================] - 0s 8ms/step - loss: 0.1867\n",
            "Epoch 79/120\n",
            "29/29 [==============================] - 0s 8ms/step - loss: 0.1887\n",
            "Epoch 80/120\n",
            "29/29 [==============================] - 0s 8ms/step - loss: 0.1842\n",
            "Epoch 81/120\n",
            "29/29 [==============================] - 0s 8ms/step - loss: 0.1801\n",
            "Epoch 82/120\n",
            "29/29 [==============================] - 0s 8ms/step - loss: 0.1939\n",
            "Epoch 83/120\n",
            "29/29 [==============================] - 0s 7ms/step - loss: 0.1888\n",
            "Epoch 84/120\n",
            "29/29 [==============================] - 0s 8ms/step - loss: 0.1686\n",
            "Epoch 85/120\n",
            "29/29 [==============================] - 0s 8ms/step - loss: 0.1510\n",
            "Epoch 86/120\n",
            "29/29 [==============================] - 0s 8ms/step - loss: 0.1471\n",
            "Epoch 87/120\n",
            "29/29 [==============================] - 0s 8ms/step - loss: 0.1678\n",
            "Epoch 88/120\n",
            "29/29 [==============================] - 0s 8ms/step - loss: 0.1421\n",
            "Epoch 89/120\n",
            "29/29 [==============================] - 0s 8ms/step - loss: 0.1629\n",
            "Epoch 90/120\n",
            "29/29 [==============================] - 0s 8ms/step - loss: 0.1337\n",
            "Epoch 91/120\n",
            "29/29 [==============================] - 0s 7ms/step - loss: 0.1626\n",
            "Epoch 92/120\n",
            "29/29 [==============================] - 0s 7ms/step - loss: 0.1348\n",
            "Epoch 93/120\n",
            "29/29 [==============================] - 0s 8ms/step - loss: 0.1086\n",
            "Epoch 94/120\n",
            "29/29 [==============================] - 0s 8ms/step - loss: 0.0914\n",
            "Epoch 95/120\n",
            "29/29 [==============================] - 0s 8ms/step - loss: 0.1086\n",
            "Epoch 96/120\n",
            "29/29 [==============================] - 0s 8ms/step - loss: 0.0953\n",
            "Epoch 97/120\n",
            "29/29 [==============================] - 0s 7ms/step - loss: 0.1150\n",
            "Epoch 98/120\n",
            "29/29 [==============================] - 0s 8ms/step - loss: 0.1081\n",
            "Epoch 99/120\n",
            "29/29 [==============================] - 0s 8ms/step - loss: 0.1065\n",
            "Epoch 100/120\n",
            "29/29 [==============================] - 0s 7ms/step - loss: 0.1047\n",
            "Epoch 101/120\n",
            "29/29 [==============================] - 0s 9ms/step - loss: 0.0966\n",
            "Epoch 102/120\n",
            "29/29 [==============================] - 0s 8ms/step - loss: 0.0673\n",
            "Epoch 103/120\n",
            "29/29 [==============================] - 0s 8ms/step - loss: 0.0660\n",
            "Epoch 104/120\n",
            "29/29 [==============================] - 0s 7ms/step - loss: 0.0679\n",
            "Epoch 105/120\n",
            "29/29 [==============================] - 0s 8ms/step - loss: 0.0653\n",
            "Epoch 106/120\n",
            "29/29 [==============================] - 0s 7ms/step - loss: 0.0803\n",
            "Epoch 107/120\n",
            "29/29 [==============================] - 0s 8ms/step - loss: 0.0766\n",
            "Epoch 108/120\n",
            "29/29 [==============================] - 0s 8ms/step - loss: 0.0815\n",
            "Epoch 109/120\n",
            "29/29 [==============================] - 0s 8ms/step - loss: 0.0910\n",
            "Epoch 110/120\n",
            "29/29 [==============================] - 0s 7ms/step - loss: 0.0764\n",
            "Epoch 111/120\n",
            "29/29 [==============================] - 0s 8ms/step - loss: 0.0620\n",
            "Epoch 112/120\n",
            "29/29 [==============================] - 0s 10ms/step - loss: 0.0751\n",
            "Epoch 113/120\n",
            "29/29 [==============================] - 0s 10ms/step - loss: 0.1024\n",
            "Epoch 114/120\n",
            "29/29 [==============================] - 0s 10ms/step - loss: 0.0792\n",
            "Epoch 115/120\n",
            "29/29 [==============================] - 0s 10ms/step - loss: 0.0886\n",
            "Epoch 116/120\n",
            "29/29 [==============================] - 0s 10ms/step - loss: 0.1063\n",
            "Epoch 117/120\n",
            "29/29 [==============================] - 0s 10ms/step - loss: 0.0948\n",
            "Epoch 118/120\n",
            "29/29 [==============================] - 0s 10ms/step - loss: 0.0774\n",
            "Epoch 119/120\n",
            "29/29 [==============================] - 0s 10ms/step - loss: 0.0924\n",
            "Epoch 120/120\n",
            "29/29 [==============================] - 0s 10ms/step - loss: 0.1008\n",
            "1/1 [==============================] - 1s 665ms/step\n",
            "1/1 [==============================] - 0s 22ms/step\n",
            "1/1 [==============================] - 0s 20ms/step\n",
            "1/1 [==============================] - 0s 22ms/step\n",
            "1/1 [==============================] - 0s 21ms/step\n",
            "1/1 [==============================] - 0s 20ms/step\n",
            "1/1 [==============================] - 0s 21ms/step\n",
            "1/1 [==============================] - 0s 20ms/step\n",
            "1/1 [==============================] - 0s 20ms/step\n",
            "1/1 [==============================] - 0s 23ms/step\n",
            "1/1 [==============================] - 0s 20ms/step\n",
            "1/1 [==============================] - 0s 21ms/step\n",
            "1/1 [==============================] - 0s 20ms/step\n",
            "1/1 [==============================] - 0s 23ms/step\n",
            "1/1 [==============================] - 0s 23ms/step\n",
            "1/1 [==============================] - 0s 24ms/step\n",
            "1/1 [==============================] - 0s 21ms/step\n",
            "1/1 [==============================] - 0s 21ms/step\n",
            "1/1 [==============================] - 0s 22ms/step\n",
            "1/1 [==============================] - 0s 21ms/step\n",
            "1/1 [==============================] - 0s 21ms/step\n",
            "1/1 [==============================] - 0s 24ms/step\n",
            "1/1 [==============================] - 0s 22ms/step\n",
            "1/1 [==============================] - 0s 21ms/step\n",
            "1/1 [==============================] - 0s 24ms/step\n",
            "1/1 [==============================] - 0s 23ms/step\n",
            "1/1 [==============================] - 0s 24ms/step\n",
            "1/1 [==============================] - 0s 21ms/step\n",
            "1/1 [==============================] - 0s 21ms/step\n",
            "1/1 [==============================] - 0s 23ms/step\n",
            "1/1 [==============================] - 0s 21ms/step\n",
            "1/1 [==============================] - 0s 20ms/step\n",
            "1/1 [==============================] - 0s 21ms/step\n",
            "1/1 [==============================] - 0s 31ms/step\n",
            "1/1 [==============================] - 0s 19ms/step\n",
            "1/1 [==============================] - 0s 23ms/step\n",
            "1/1 [==============================] - 0s 21ms/step\n",
            "1/1 [==============================] - 0s 23ms/step\n",
            "1/1 [==============================] - 0s 23ms/step\n",
            "1/1 [==============================] - 0s 22ms/step\n",
            "1/1 [==============================] - 0s 19ms/step\n",
            "1/1 [==============================] - 0s 23ms/step\n",
            "1/1 [==============================] - 0s 21ms/step\n",
            "1/1 [==============================] - 0s 25ms/step\n",
            "1/1 [==============================] - 0s 21ms/step\n",
            "1/1 [==============================] - 0s 20ms/step\n",
            "1/1 [==============================] - 0s 20ms/step\n",
            "1/1 [==============================] - 0s 21ms/step\n",
            "1/1 [==============================] - 0s 23ms/step\n",
            "1/1 [==============================] - 0s 20ms/step\n",
            "1/1 [==============================] - 0s 23ms/step\n",
            "1/1 [==============================] - 0s 21ms/step\n",
            "1/1 [==============================] - 0s 20ms/step\n",
            "1/1 [==============================] - 0s 23ms/step\n",
            "1/1 [==============================] - 0s 26ms/step\n",
            "1/1 [==============================] - 0s 23ms/step\n",
            "1/1 [==============================] - 0s 23ms/step\n",
            "1/1 [==============================] - 0s 22ms/step\n",
            "1/1 [==============================] - 0s 23ms/step\n",
            "1/1 [==============================] - 0s 21ms/step\n",
            "1/1 [==============================] - 0s 23ms/step\n",
            "1/1 [==============================] - 0s 23ms/step\n",
            "1/1 [==============================] - 0s 26ms/step\n",
            "1/1 [==============================] - 0s 25ms/step\n",
            "1/1 [==============================] - 0s 21ms/step\n",
            "1/1 [==============================] - 0s 24ms/step\n",
            "1/1 [==============================] - 0s 21ms/step\n",
            "1/1 [==============================] - 0s 24ms/step\n",
            "1/1 [==============================] - 0s 20ms/step\n",
            "1/1 [==============================] - 0s 22ms/step\n",
            "1/1 [==============================] - 0s 20ms/step\n",
            "1/1 [==============================] - 0s 20ms/step\n",
            "1/1 [==============================] - 0s 25ms/step\n",
            "1/1 [==============================] - 0s 27ms/step\n",
            "1/1 [==============================] - 0s 24ms/step\n",
            "1/1 [==============================] - 0s 25ms/step\n",
            "1/1 [==============================] - 0s 24ms/step\n",
            "1/1 [==============================] - 0s 22ms/step\n",
            "1/1 [==============================] - 0s 21ms/step\n",
            "1/1 [==============================] - 0s 21ms/step\n",
            "1/1 [==============================] - 0s 22ms/step\n",
            "1/1 [==============================] - 0s 24ms/step\n",
            "1/1 [==============================] - 0s 23ms/step\n",
            "1/1 [==============================] - 0s 20ms/step\n",
            "1/1 [==============================] - 0s 30ms/step\n",
            "1/1 [==============================] - 0s 21ms/step\n",
            "1/1 [==============================] - 0s 22ms/step\n"
          ]
        }
      ]
    },
    {
      "cell_type": "code",
      "source": [
        "print(generated_words)"
      ],
      "metadata": {
        "colab": {
          "base_uri": "https://localhost:8080/"
        },
        "id": "6pE-X4VE1lq3",
        "outputId": "3bcf329a-12d6-47d7-ae20-79af8355c438"
      },
      "execution_count": 116,
      "outputs": [
        {
          "output_type": "stream",
          "name": "stdout",
          "text": [
            "['lumtungstenrhenium', 'mlivermorium', 'eneonsodium', 'iumruthenium', 'rsenicselenium', 'oviummoscovium', 'lliumleadbismuthpolonium', 'iumneodymium', 'riumiodinexenoncesium', 'olybdenumtechnetium']\n"
          ]
        }
      ]
    },
    {
      "cell_type": "code",
      "source": [],
      "metadata": {
        "id": "UYif-kkdxAMh"
      },
      "execution_count": null,
      "outputs": []
    }
  ],
  "metadata": {
    "kernelspec": {
      "display_name": "Python 3",
      "language": "python",
      "name": "python3"
    },
    "language_info": {
      "codemirror_mode": {
        "name": "ipython",
        "version": 3
      },
      "file_extension": ".py",
      "mimetype": "text/x-python",
      "name": "python",
      "nbconvert_exporter": "python",
      "pygments_lexer": "ipython3",
      "version": "3.7.6"
    },
    "colab": {
      "provenance": []
    },
    "accelerator": "GPU",
    "gpuClass": "standard"
  },
  "nbformat": 4,
  "nbformat_minor": 0
}